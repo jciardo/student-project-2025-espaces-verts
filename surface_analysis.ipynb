{
 "cells": [
  {
   "cell_type": "code",
   "execution_count": 1,
   "id": "b6e084b2",
   "metadata": {},
   "outputs": [],
   "source": [
    "import geopandas as gpd\n",
    "import pandas as pd"
   ]
  },
  {
   "cell_type": "code",
   "execution_count": 3,
   "id": "0c4ec75f",
   "metadata": {},
   "outputs": [
    {
     "name": "stdout",
     "output_type": "stream",
     "text": [
      "Processing 1800 → src/data/Berney_espaces_verts_macro.geojson\n"
     ]
    },
    {
     "name": "stderr",
     "output_type": "stream",
     "text": [
      "Skipping field own_col_de: unsupported OGR type: 5\n"
     ]
    },
    {
     "name": "stdout",
     "output_type": "stream",
     "text": [
      "Processing 1830 → src/data/espaces_verts_macro.geojson\n",
      "Processing 2024 → src/data/2024_espaces_verts_macro.geojson\n",
      "Wrote src/data/areas_raw.csv and src/data/areas_by_class.csv\n"
     ]
    }
   ],
   "source": [
    "# 1️⃣ Point to your GeoJSONs and target CRS for Lausanne\n",
    "INPUTS = {\n",
    "    1800: \"src/data/Berney_espaces_verts_macro.geojson\",\n",
    "    1830: \"src/data/espaces_verts_macro.geojson\",\n",
    "    2024: \"src/data/2024_espaces_verts_macro.geojson\",\n",
    "}\n",
    "# CH1903+ / LV95 is EPSG:2056, good for Swiss metres\n",
    "TARGET_CRS = \"EPSG:2056\"\n",
    "\n",
    "# 2️⃣ Collect raw per-feature areas\n",
    "records = []\n",
    "for year, path in INPUTS.items():\n",
    "    print(f\"Processing {year} → {path}\")\n",
    "    gdf = gpd.read_file(path)\n",
    "    # ensure the GeoJSON has a CRS; if not, set its original CRS (likely EPSG:4326)\n",
    "    if gdf.crs is None:\n",
    "        gdf = gdf.set_crs(\"EPSG:4326\")\n",
    "    gdf = gdf.to_crs(TARGET_CRS)\n",
    "    gdf[\"area_m2\"] = gdf.geometry.area\n",
    "    # expect a `macro_ev` column and maybe `merge_id`\n",
    "    for _, row in gdf.iterrows():\n",
    "        records.append({\n",
    "            \"year\":       year,\n",
    "            \"merge_id\":   row.get(\"merge_id\", \"\"),\n",
    "            \"class\":      row[\"macro_ev\"],\n",
    "            \"area_m2\":    row[\"area_m2\"],\n",
    "        })\n",
    "\n",
    "# 3️⃣ Write the raw table (one row per polygon)\n",
    "df = pd.DataFrame(records)\n",
    "df.to_csv(\"src/data/areas_raw.csv\", index=False)\n",
    "\n",
    "# 4️⃣ Aggregate by year + class\n",
    "summary = (\n",
    "    df\n",
    "    .groupby([\"year\", \"class\"], as_index=False)\n",
    "    .area_m2\n",
    "    .sum()\n",
    "    .rename(columns={\"area_m2\": \"total_area_m2\"})\n",
    ")\n",
    "summary.to_csv(\"src/data/areas_by_class.csv\", index=False)\n",
    "\n",
    "print(\"Wrote src/data/areas_raw.csv and src/data/areas_by_class.csv\")"
   ]
  },
  {
   "cell_type": "code",
   "execution_count": null,
   "id": "bff28e20",
   "metadata": {},
   "outputs": [],
   "source": []
  }
 ],
 "metadata": {
  "kernelspec": {
   "display_name": "base",
   "language": "python",
   "name": "python3"
  },
  "language_info": {
   "codemirror_mode": {
    "name": "ipython",
    "version": 3
   },
   "file_extension": ".py",
   "mimetype": "text/x-python",
   "name": "python",
   "nbconvert_exporter": "python",
   "pygments_lexer": "ipython3",
   "version": "3.12.9"
  }
 },
 "nbformat": 4,
 "nbformat_minor": 5
}
