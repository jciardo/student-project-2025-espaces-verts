{
 "cells": [
  {
   "cell_type": "code",
   "execution_count": 1,
   "id": "b6e084b2",
   "metadata": {},
   "outputs": [],
   "source": [
    "import geopandas as gpd\n",
    "import pandas as pd"
   ]
  },
  {
   "cell_type": "code",
   "execution_count": 2,
   "id": "5ee2b04d",
   "metadata": {},
   "outputs": [
    {
     "name": "stdout",
     "output_type": "stream",
     "text": [
      "Processing 1721 → src/data/Melotte-1721.geojson\n"
     ]
    },
    {
     "name": "stderr",
     "output_type": "stream",
     "text": [
      "Skipping field own_col_de: unsupported OGR type: 5\n"
     ]
    },
    {
     "name": "stdout",
     "output_type": "stream",
     "text": [
      "Processing 1831 → src/data/Berney_espaces_verts_macro.geojson\n",
      "Processing 1888 → src/data/espaces_verts_macro.geojson\n",
      "Processing 2024 → src/data/2024_espaces_verts_macro.geojson\n",
      "Wrote src/data/areas_raw.csv and src/data/areas_by_class.csv\n"
     ]
    }
   ],
   "source": [
    "import geopandas as gpd\n",
    "import pandas as pd\n",
    "\n",
    "# 1️⃣ Point to your GeoJSONs and target CRS for Lausanne\n",
    "INPUTS = {\n",
    "    1721 : \"src/data/Melotte-1721.geojson\",\n",
    "    1831: \"src/data/Berney_espaces_verts_macro.geojson\",\n",
    "    1888: \"src/data/espaces_verts_macro.geojson\",\n",
    "    2024: \"src/data/2024_espaces_verts_macro.geojson\",\n",
    "}\n",
    "TARGET_CRS = \"EPSG:2056\"  # Swiss grid, good for metres\n",
    "\n",
    "# 2️⃣ Collect raw per-feature areas\n",
    "records = []\n",
    "for year, path in INPUTS.items():\n",
    "    print(f\"Processing {year} → {path}\")\n",
    "    gdf = gpd.read_file(path)\n",
    "\n",
    "    # si pas de CRS, on assume WGS84\n",
    "    if gdf.crs is None:\n",
    "        print(f\"⚠️ CRS non défini pour « {path} », j'assume EPSG:4326\")\n",
    "        gdf = gdf.set_crs(\"EPSG:4326\")\n",
    "\n",
    "    # reprojection en Swiss grid\n",
    "    gdf = gdf.to_crs(TARGET_CRS)\n",
    "\n",
    "    # calcul des surfaces\n",
    "    gdf[\"area_m2\"] = gdf.geometry.area\n",
    "    # conversion en hectares\n",
    "    gdf[\"area_ha\"] = gdf[\"area_m2\"] / 10_000\n",
    "\n",
    "    # extraire les attributs\n",
    "    for _, row in gdf.iterrows():\n",
    "        records.append({\n",
    "            \"year\":     year,\n",
    "            \"merge_id\": row.get(\"merge_id\", \"\"),\n",
    "            \"class\":    row[\"macro_ev\"],\n",
    "            \"area_m2\":  row[\"area_m2\"],\n",
    "            \"area_ha\":  row[\"area_ha\"],\n",
    "        })\n",
    "\n",
    "# 3️⃣ Écriture du tableau brut (une ligne par polygone)\n",
    "df = pd.DataFrame(records)\n",
    "df.to_csv(\"src/data/areas_raw.csv\", index=False)\n",
    "\n",
    "# 4️⃣ Agrégation par année + classe (en hectares)\n",
    "summary = (\n",
    "    df\n",
    "    .groupby([\"year\", \"class\"], as_index=False)\n",
    "    .agg(\n",
    "         total_area_ha = (\"area_ha\", \"sum\"))\n",
    ")\n",
    "summary.to_csv(\"src/data/areas_by_class.csv\", index=False)\n",
    "\n",
    "print(\"Wrote src/data/areas_raw.csv and src/data/areas_by_class.csv\")\n"
   ]
  }
 ],
 "metadata": {
  "kernelspec": {
   "display_name": "base",
   "language": "python",
   "name": "python3"
  },
  "language_info": {
   "codemirror_mode": {
    "name": "ipython",
    "version": 3
   },
   "file_extension": ".py",
   "mimetype": "text/x-python",
   "name": "python",
   "nbconvert_exporter": "python",
   "pygments_lexer": "ipython3",
   "version": "3.12.9"
  }
 },
 "nbformat": 4,
 "nbformat_minor": 5
}
